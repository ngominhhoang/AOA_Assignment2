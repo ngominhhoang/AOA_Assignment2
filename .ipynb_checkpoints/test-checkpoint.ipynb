{
 "cells": [
  {
   "cell_type": "code",
   "execution_count": 1,
   "id": "f4e4055c",
   "metadata": {},
   "outputs": [],
   "source": [
    "from utils import read_input_basic\n",
    "import heapq\n",
    "import collections\n"
   ]
  },
  {
   "cell_type": "code",
   "execution_count": 2,
   "id": "ca57e0ab",
   "metadata": {},
   "outputs": [],
   "source": [
    "import random\n",
    "\n",
    "random.seed(42)\n",
    "\n",
    "n_values = [6000,\n",
    "    7000,\n",
    "    8000,\n",
    "    9000,\n",
    "    9999\n",
    "]\n",
    "\n",
    "def gen_data(n_values=n_values, k=300):\n",
    "    for i, n in enumerate(n_values):\n",
    "        with open(f\"data/{i}.txt\", 'w') as f:\n",
    "            f.write(f\"{n} {k}\\n\")\n",
    "            randomlist = []\n",
    "            for i in range(0,100000):\n",
    "                n = random.randint(1,100000)\n",
    "                randomlist.append(str(n))\n",
    "            f.write(' '.join(randomlist))\n",
    "gen_data(n_values, 300)"
   ]
  },
  {
   "cell_type": "code",
   "execution_count": 3,
   "id": "dfced305",
   "metadata": {},
   "outputs": [],
   "source": [
    "# This file is only used to generate the plot. \n",
    "# It does not have to run on thunder (since it needs 3rd-party libraries)\n",
    "# reference https://matplotlib.org/stable/gallery/lines_bars_and_markers/barchart.html\n",
    "\n",
    "import random\n",
    "from pathlib import Path\n",
    "\n",
    "import matplotlib.pyplot as plt\n",
    "import numpy as np\n",
    "\n",
    "from utils import read_input_basic\n",
    "\n",
    "from task2a import task2a\n",
    "from task2b import task2b\n",
    "from task3 import task3\n",
    "from task4 import task4\n",
    "\n",
    "\n",
    "algorithms = {\n",
    "    \"strat1\": task2a,\n",
    "    \"strat2\": task2b,\n",
    "    \"strat3\": task3,\n",
    "    \"strat4\": task4,\n",
    "}\n",
    "\n",
    "input_names = [Path(f).stem for f in Path(\"data\").glob(\"*.txt\")]\n",
    "results = {}\n",
    "for strat_name, f in algorithms.items():\n",
    "    result = []\n",
    "    for input_name in input_names:\n",
    "        #print(input_name)\n",
    "        with open(f\"data/{input_name}.txt\", \"r\") as f_in:\n",
    "            n, k, c = read_input_basic(f_in)\n",
    "            res, _ = f(n, k, c)\n",
    "            result.append(res)\n",
    "        \n",
    "    results[strat_name] = result"
   ]
  },
  {
   "cell_type": "code",
   "execution_count": 4,
   "id": "9e62897b",
   "metadata": {},
   "outputs": [
    {
     "data": {
      "text/plain": [
       "{'strat1': [102508, 67490, 55360, 84991, 82384],\n",
       " 'strat2': [102508, 67490, 55360, 84991, 82384],\n",
       " 'strat3': [102508, 67490, 55360, 84991, 82384],\n",
       " 'strat4': [102508, 67490, 55360, 84991, 82384]}"
      ]
     },
     "execution_count": 4,
     "metadata": {},
     "output_type": "execute_result"
    }
   ],
   "source": [
    "results"
   ]
  }
 ],
 "metadata": {
  "kernelspec": {
   "display_name": "Python 3 (ipykernel)",
   "language": "python",
   "name": "python3"
  },
  "language_info": {
   "codemirror_mode": {
    "name": "ipython",
    "version": 3
   },
   "file_extension": ".py",
   "mimetype": "text/x-python",
   "name": "python",
   "nbconvert_exporter": "python",
   "pygments_lexer": "ipython3",
   "version": "3.9.7"
  }
 },
 "nbformat": 4,
 "nbformat_minor": 5
}
