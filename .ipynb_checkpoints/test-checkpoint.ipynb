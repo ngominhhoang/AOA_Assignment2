{
 "cells": [
  {
   "cell_type": "code",
   "execution_count": 30,
   "id": "f4e4055c",
   "metadata": {},
   "outputs": [],
   "source": [
    "from utils import read_input_basic\n",
    "import heapq\n",
    "import collections\n"
   ]
  },
  {
   "cell_type": "code",
   "execution_count": 42,
   "id": "55ea74da",
   "metadata": {},
   "outputs": [],
   "source": [
    "import random\n",
    "randomlist = []\n",
    "for i in range(0,100000):\n",
    "    n = random.randint(1,100000)\n",
    "    randomlist.append(n)\n",
    "\n",
    "#randomlist"
   ]
  },
  {
   "cell_type": "code",
   "execution_count": 48,
   "id": "7a262c9f",
   "metadata": {},
   "outputs": [
    {
     "name": "stdout",
     "output_type": "stream",
     "text": [
      "64533\n"
     ]
    }
   ],
   "source": [
    "#Task 4\n",
    "#n, k, cost = read_input_basic()\n",
    "#n, k, c = 5, 2, [1,2,3,4,5]\n",
    "n, k, c = 100000,50000, randomlist\n",
    "f = [1e15 for i in range(0,n+1)]\n",
    "\n",
    "f[0] = 0\n",
    "q = collections.deque([(f[0]+c[0], 0)])\n",
    "\n",
    "for i in range(1,n+1):\n",
    "    #print('-----',i)\n",
    "    while True:\n",
    "        f_val, index = q[0]\n",
    "        #print(index)\n",
    "        if index >= i-k:\n",
    "            f[i] = f_val\n",
    "            if i != n:\n",
    "                #print(q[-1][0])\n",
    "                while len(q) > 0 and f[i]+c[i] <= q[-1][0]:\n",
    "                    q.pop()\n",
    "                q.append((f[i]+c[i],i))\n",
    "            break\n",
    "        else:\n",
    "            q.popleft()\n",
    "\n",
    "print(f[n])"
   ]
  },
  {
   "cell_type": "code",
   "execution_count": 51,
   "id": "713127f9",
   "metadata": {},
   "outputs": [
    {
     "name": "stdout",
     "output_type": "stream",
     "text": [
      "64533\n"
     ]
    }
   ],
   "source": [
    "#Task 3\n",
    "#n, k, cost = read_input_basic()\n",
    "#n, k, c = 5, 2, [1,2,3,4,5]\n",
    "#n, k, c = 100,24, randomlist\n",
    "f = [1e15 for i in range(0,n+1)]\n",
    "\n",
    "f[0] = 0\n",
    "heap = [(f[0]+c[0],0)]\n",
    "heapq.heapify(heap)\n",
    "\n",
    "for i in range(1,n+1):\n",
    "    #print('-----',i)\n",
    "    while True:\n",
    "        f_val, index = heapq.heappop(heap)\n",
    "        #print(index)\n",
    "        if index >= i-k:\n",
    "            f[i] = f_val\n",
    "            if i != n:\n",
    "                heapq.heappush(heap, (f[i]+c[i],i))\n",
    "                heapq.heappush(heap, (f_val, index))\n",
    "            break\n",
    "\n",
    "print(f[n])"
   ]
  },
  {
   "cell_type": "code",
   "execution_count": 50,
   "id": "c474656c",
   "metadata": {},
   "outputs": [
    {
     "ename": "KeyboardInterrupt",
     "evalue": "",
     "output_type": "error",
     "traceback": [
      "\u001b[0;31m---------------------------------------------------------------------------\u001b[0m",
      "\u001b[0;31mKeyboardInterrupt\u001b[0m                         Traceback (most recent call last)",
      "\u001b[0;32m/tmp/ipykernel_1920484/2063804347.py\u001b[0m in \u001b[0;36m<module>\u001b[0;34m\u001b[0m\n\u001b[1;32m      7\u001b[0m     \u001b[0;31m#f[i] = -1\u001b[0m\u001b[0;34m\u001b[0m\u001b[0;34m\u001b[0m\u001b[0m\n\u001b[1;32m      8\u001b[0m     \u001b[0;32mfor\u001b[0m \u001b[0mj\u001b[0m \u001b[0;32min\u001b[0m \u001b[0mrange\u001b[0m\u001b[0;34m(\u001b[0m\u001b[0mmax\u001b[0m\u001b[0;34m(\u001b[0m\u001b[0;36m0\u001b[0m\u001b[0;34m,\u001b[0m\u001b[0mi\u001b[0m\u001b[0;34m-\u001b[0m\u001b[0mk\u001b[0m\u001b[0;34m)\u001b[0m\u001b[0;34m,\u001b[0m \u001b[0mi\u001b[0m\u001b[0;34m)\u001b[0m\u001b[0;34m:\u001b[0m\u001b[0;34m\u001b[0m\u001b[0;34m\u001b[0m\u001b[0m\n\u001b[0;32m----> 9\u001b[0;31m         \u001b[0mf\u001b[0m\u001b[0;34m[\u001b[0m\u001b[0mi\u001b[0m\u001b[0;34m]\u001b[0m \u001b[0;34m=\u001b[0m \u001b[0mmin\u001b[0m\u001b[0;34m(\u001b[0m\u001b[0mf\u001b[0m\u001b[0;34m[\u001b[0m\u001b[0mi\u001b[0m\u001b[0;34m]\u001b[0m\u001b[0;34m,\u001b[0m \u001b[0mf\u001b[0m\u001b[0;34m[\u001b[0m\u001b[0mj\u001b[0m\u001b[0;34m]\u001b[0m \u001b[0;34m+\u001b[0m \u001b[0mc\u001b[0m\u001b[0;34m[\u001b[0m\u001b[0mj\u001b[0m\u001b[0;34m]\u001b[0m\u001b[0;34m)\u001b[0m\u001b[0;34m\u001b[0m\u001b[0;34m\u001b[0m\u001b[0m\n\u001b[0m\u001b[1;32m     10\u001b[0m \u001b[0;34m\u001b[0m\u001b[0m\n\u001b[1;32m     11\u001b[0m \u001b[0mprint\u001b[0m\u001b[0;34m(\u001b[0m\u001b[0mf\u001b[0m\u001b[0;34m[\u001b[0m\u001b[0mn\u001b[0m\u001b[0;34m]\u001b[0m\u001b[0;34m)\u001b[0m\u001b[0;34m\u001b[0m\u001b[0;34m\u001b[0m\u001b[0m\n",
      "\u001b[0;31mKeyboardInterrupt\u001b[0m: "
     ]
    }
   ],
   "source": [
    "#Task 2b\n",
    "\n",
    "f = [1e15 for i in range(0,n+1)]\n",
    "\n",
    "f[0] = 0\n",
    "for i in range(1,n+1):\n",
    "    #f[i] = -1\n",
    "    for j in range(max(0,i-k), i):\n",
    "        f[i] = min(f[i], f[j] + c[j])\n",
    "\n",
    "print(f[n])"
   ]
  },
  {
   "cell_type": "code",
   "execution_count": 29,
   "id": "1df7fa73",
   "metadata": {},
   "outputs": [
    {
     "name": "stdout",
     "output_type": "stream",
     "text": [
      "21081\n"
     ]
    }
   ],
   "source": [
    "#Task 2a\n",
    "\n",
    "def find_min(i):\n",
    "    if i == 0:\n",
    "        return 0\n",
    "    if f[i] != 1e15:\n",
    "        return f[i]\n",
    "    \n",
    "    for j in range(max(0,i-k), i):\n",
    "        f[i] = min(f[i], find_min(j)+c[j])\n",
    "    return f[i]\n",
    "\n",
    "f = [1e15 for i in range(0,n+1)]\n",
    "\n",
    "f[0] = 0\n",
    "print(find_min(n))"
   ]
  },
  {
   "cell_type": "code",
   "execution_count": 61,
   "id": "ac350228",
   "metadata": {},
   "outputs": [],
   "source": [
    "def trace_route(n, k, c, f):\n",
    "    order = []\n",
    "    i = n\n",
    "    while i != 0:\n",
    "        minn = 1e15\n",
    "        saved = -1\n",
    "        for j in range(max(0, i-k), i):\n",
    "            if f[j] + c[j] < minn:\n",
    "                minn = f[j] + c[j]\n",
    "                saved = j\n",
    "        i = saved\n",
    "        order.append(saved)\n",
    "    order.reverse()\n",
    "    return order"
   ]
  },
  {
   "cell_type": "code",
   "execution_count": 62,
   "id": "82fb05b5",
   "metadata": {},
   "outputs": [
    {
     "name": "stdout",
     "output_type": "stream",
     "text": [
      "[0, 41908, 85215]\n"
     ]
    }
   ],
   "source": [
    "order = trace_route(n,k,c,f)\n",
    "print(order)"
   ]
  },
  {
   "cell_type": "code",
   "execution_count": null,
   "id": "54e80a84",
   "metadata": {},
   "outputs": [],
   "source": [
    "# This file is only used to generate the plot. \n",
    "# It does not have to run on thunder (since it needs 3rd-party libraries)\n",
    "# reference https://matplotlib.org/stable/gallery/lines_bars_and_markers/barchart.html\n",
    "\n",
    "import random\n",
    "from pathlib import Path\n",
    "\n",
    "import matplotlib.pyplot as plt\n",
    "import numpy as np\n",
    "\n",
    "from utils import read_input_basic\n",
    "\n",
    "from task2a import task2a\n",
    "from task2b import task2b\n",
    "from task3 import task3\n",
    "from task4 import task4\n",
    "\n",
    "\n",
    "algorithms = {\n",
    "    \"strat1\": strategy1,\n",
    "    \"strat2\": strategy2,\n",
    "    \"strat3\": strategy3,\n",
    "    \"strat4\": strategy4,\n",
    "}\n"
   ]
  }
 ],
 "metadata": {
  "kernelspec": {
   "display_name": "Python 3 (ipykernel)",
   "language": "python",
   "name": "python3"
  },
  "language_info": {
   "codemirror_mode": {
    "name": "ipython",
    "version": 3
   },
   "file_extension": ".py",
   "mimetype": "text/x-python",
   "name": "python",
   "nbconvert_exporter": "python",
   "pygments_lexer": "ipython3",
   "version": "3.9.7"
  }
 },
 "nbformat": 4,
 "nbformat_minor": 5
}
