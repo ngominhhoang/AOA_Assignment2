{
 "cells": [
  {
   "cell_type": "code",
   "execution_count": 21,
   "id": "ca57e0ab",
   "metadata": {},
   "outputs": [],
   "source": [
    "import random\n",
    "\n",
    "random.seed(42)\n",
    "\n",
    "n_values = [4,\n",
    "    50,\n",
    "    100,\n",
    "    200,\n",
    "    299\n",
    "]\n",
    "\n",
    "def gen_data(n_values=n_values, k=15):\n",
    "    for i, n in enumerate(n_values):\n",
    "        # m = random.randint(1,n - 1)\n",
    "        m = 2\n",
    "        with open(f\"data/p2/{i}.txt\", 'w') as f:\n",
    "            f.write(f\"{n} {k} {m}\\n\")\n",
    "            randomlist = []\n",
    "            for i in range(0,n):\n",
    "                n = random.randint(1,100000)\n",
    "                randomlist.append(str(n))\n",
    "            f.write(' '.join(randomlist))\n",
    "gen_data(n_values, 300)"
   ]
  },
  {
   "cell_type": "code",
   "execution_count": 16,
   "id": "dfced305",
   "metadata": {},
   "outputs": [
    {
     "name": "stdout",
     "output_type": "stream",
     "text": [
      "{'strat1': [584101, 2373778, 4530647, 9796571, 15654270], 'strat2': [584101, 2373778, 4530647, 9796571, 15654270], 'strat3': [584101, 2373778, 4530647, 9796571, 15654270], 'strat4': [584101, 2373778, 4530647, 9796571, 15654270]}\n"
     ]
    }
   ],
   "source": [
    "# This file is only used to generate the plot. \n",
    "# It does not have to run on thunder (since it needs 3rd-party libraries)\n",
    "# reference https://matplotlib.org/stable/gallery/lines_bars_and_markers/barchart.html\n",
    "\n",
    "import random\n",
    "from pathlib import Path\n",
    "\n",
    "import matplotlib.pyplot as plt\n",
    "import numpy as np\n",
    "\n",
    "from utils import read_input_prob2\n",
    "\n",
    "from task6a import task6 as task6a\n",
    "from task6b import task6 as task6b\n",
    "from task7 import task7\n",
    "from task8 import task8\n",
    "\n",
    "\n",
    "algorithms = {\n",
    "    \"strat1\": task6a,\n",
    "    \"strat2\": task6b,\n",
    "    \"strat3\": task7,\n",
    "    \"strat4\": task8,\n",
    "}\n",
    "\n",
    "input_names = [Path(f).stem for f in Path(\"data/p2\").glob(\"*.txt\")]\n",
    "results = {}\n",
    "for strat_name, f in algorithms.items():\n",
    "    result = []\n",
    "    for input_name in input_names:\n",
    "        #print(input_name)\n",
    "        with open(f\"data/p2/{input_name}.txt\", \"r\") as f_in:\n",
    "            n, k, m, c = read_input_prob2(f_in)\n",
    "            res, _ = f(n, k, m, c)\n",
    "            # if strat_name == \"strat2\" and input_name == \"0\":\n",
    "            #     print(*_, sep='\\n')\n",
    "            result.append(res)\n",
    "        \n",
    "    results[strat_name] = result\n",
    "print(results)"
   ]
  },
  {
   "cell_type": "code",
   "execution_count": 17,
   "id": "9e62897b",
   "metadata": {},
   "outputs": [
    {
     "data": {
      "text/plain": [
       "{'strat1': [584101, 2373778, 4530647, 9796571, 15654270],\n",
       " 'strat2': [584101, 2373778, 4530647, 9796571, 15654270],\n",
       " 'strat3': [584101, 2373778, 4530647, 9796571, 15654270],\n",
       " 'strat4': [584101, 2373778, 4530647, 9796571, 15654270]}"
      ]
     },
     "execution_count": 17,
     "metadata": {},
     "output_type": "execute_result"
    }
   ],
   "source": [
    "results"
   ]
  }
 ],
 "metadata": {
  "kernelspec": {
   "display_name": "Python 3 (ipykernel)",
   "language": "python",
   "name": "python3"
  },
  "language_info": {
   "codemirror_mode": {
    "name": "ipython",
    "version": 3
   },
   "file_extension": ".py",
   "mimetype": "text/x-python",
   "name": "python",
   "nbconvert_exporter": "python",
   "pygments_lexer": "ipython3",
   "version": "3.11.5"
  }
 },
 "nbformat": 4,
 "nbformat_minor": 5
}
